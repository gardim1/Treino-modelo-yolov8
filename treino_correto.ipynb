{
  "cells": [
    {
      "cell_type": "markdown",
      "metadata": {
        "id": "view-in-github",
        "colab_type": "text"
      },
      "source": [
        "<a href=\"https://colab.research.google.com/github/gardim1/Treino-modelo-yolov8/blob/main/treino_correto.ipynb\" target=\"_parent\"><img src=\"https://colab.research.google.com/assets/colab-badge.svg\" alt=\"Open In Colab\"/></a>"
      ]
    },
    {
      "cell_type": "markdown",
      "source": [
        "#Vai rodando isso na ordem que ta aqui, um por um. nao precisa fazer nada, no maximo, clica no icone de \"pasta\" a esquerda, de baixo da chave. Serve pra vc ver as pastas novas que serao criadas\n"
      ],
      "metadata": {
        "id": "s5mKZGBKETdn"
      }
    },
    {
      "cell_type": "code",
      "execution_count": null,
      "metadata": {
        "colab": {
          "base_uri": "https://localhost:8080/"
        },
        "id": "Y8cDtxLIBHgQ",
        "outputId": "dae4b921-2090-4c1e-9f8e-c39d9ded194d",
        "collapsed": true
      },
      "outputs": [
        {
          "output_type": "stream",
          "name": "stdout",
          "text": [
            "Mon Sep 16 00:50:29 2024       \n",
            "+---------------------------------------------------------------------------------------+\n",
            "| NVIDIA-SMI 535.104.05             Driver Version: 535.104.05   CUDA Version: 12.2     |\n",
            "|-----------------------------------------+----------------------+----------------------+\n",
            "| GPU  Name                 Persistence-M | Bus-Id        Disp.A | Volatile Uncorr. ECC |\n",
            "| Fan  Temp   Perf          Pwr:Usage/Cap |         Memory-Usage | GPU-Util  Compute M. |\n",
            "|                                         |                      |               MIG M. |\n",
            "|=========================================+======================+======================|\n",
            "|   0  Tesla T4                       Off | 00000000:00:04.0 Off |                    0 |\n",
            "| N/A   65C    P8              11W /  70W |      3MiB / 15360MiB |      0%      Default |\n",
            "|                                         |                      |                  N/A |\n",
            "+-----------------------------------------+----------------------+----------------------+\n",
            "                                                                                         \n",
            "+---------------------------------------------------------------------------------------+\n",
            "| Processes:                                                                            |\n",
            "|  GPU   GI   CI        PID   Type   Process name                            GPU Memory |\n",
            "|        ID   ID                                                             Usage      |\n",
            "|=======================================================================================|\n",
            "|  No running processes found                                                           |\n",
            "+---------------------------------------------------------------------------------------+\n"
          ]
        }
      ],
      "source": [
        "!nvidia-smi\n",
        "#Verifica se há uma GPU NVIDIA disponível. Se a saída mostrar /content, isso significa que não há GPU conectada.\n",
        "#Você pode mudar para uma GPU T4 manualmente nas configurações do Colab."
      ]
    },
    {
      "cell_type": "code",
      "execution_count": null,
      "metadata": {
        "colab": {
          "base_uri": "https://localhost:8080/"
        },
        "id": "CjpPg4mGKc1v",
        "outputId": "fa7a87ae-546d-424b-dab6-c8b909e90fb4"
      },
      "outputs": [
        {
          "output_type": "stream",
          "name": "stdout",
          "text": [
            "/content\n"
          ]
        }
      ],
      "source": [
        "#Exibe o diretório de trabalho atual, que é /content\n",
        "import os\n",
        "HOME = os.getcwd()\n",
        "print(HOME)"
      ]
    },
    {
      "cell_type": "code",
      "execution_count": null,
      "metadata": {
        "colab": {
          "base_uri": "https://localhost:8080/"
        },
        "id": "tdSMcABDNKW-",
        "outputId": "261a12c5-3c5d-4dee-a279-bc35f93dc362"
      },
      "outputs": [
        {
          "output_type": "stream",
          "name": "stderr",
          "text": [
            "Ultralytics YOLOv8.0.196 🚀 Python-3.10.12 torch-2.4.0+cu121 CUDA:0 (Tesla T4, 15102MiB)\n",
            "Setup complete ✅ (2 CPUs, 12.7 GB RAM, 34.5/112.6 GB disk)\n"
          ]
        }
      ],
      "source": [
        "#Comando para instalar a versão 8.0.196 da biblioteca ultralytics, utilizada para o YOLOv8.\n",
        "#Em seguida, faz a verificação do ambiente para garantir que tudo está correto.\n",
        "!pip install ultralytics==8.0.196\n",
        "\n",
        "from IPython import display\n",
        "display.clear_output()\n",
        "\n",
        "import ultralytics\n",
        "ultralytics.checks()"
      ]
    },
    {
      "cell_type": "code",
      "execution_count": null,
      "metadata": {
        "id": "VOEYrlBoP9-E"
      },
      "outputs": [],
      "source": [
        "# O YOLOv8 é importado da biblioteca ultralytics para começar o processo de detecção de objetos.\n",
        "from ultralytics import YOLO\n",
        "\n",
        "from IPython.display import display, Image"
      ]
    },
    {
      "cell_type": "code",
      "execution_count": null,
      "metadata": {
        "id": "BSd93ZJzZZKt"
      },
      "outputs": [],
      "source": [
        "#Cria o diretório {HOME}/datasets e instala o pacote roboflow, que permite baixar o dataset anotado na plataforma Roboflow para o projeto.\n",
        "#O dataset é da versão 4 e o nome do projeto é \"fecars\", relacionado aos carros da Fórmula E.\n",
        "\n",
        "!mkdir {HOME}/datasets\n",
        "%cd {HOME}/datasets\n",
        "\n",
        "!pip install roboflow\n",
        "\n",
        "from roboflow import Roboflow\n",
        "rf = Roboflow(api_key=\"x2xC4xshiCSmN2al3zhl\")\n",
        "project = rf.workspace(\"challenge-sr6aa\").project(\"fecars\")\n",
        "version = project.version(4)\n",
        "dataset = version.download(\"yolov8\")\n",
        "\n",
        "\n"
      ]
    },
    {
      "cell_type": "code",
      "execution_count": null,
      "metadata": {
        "id": "D2YkphuiaE7_"
      },
      "outputs": [],
      "source": [
        "#O comando yolo task=detect mode=train realiza o treinamento do modelo YOLOv8 usando o arquivo de configuração data.yaml do dataset baixado,\n",
        "#com 100 epochs e gráficos ativados para análise.\n",
        "%cd {HOME}\n",
        "\n",
        "!yolo task=detect mode=train model=yolov8x.pt data={dataset.location}/data.yaml epochs=100 plots=True"
      ]
    },
    {
      "cell_type": "markdown",
      "source": [
        "#Depois de rodar isso vai abrir uma pasta runs. O codigo abaixo vai abrir essa pasta e vai mostrar um grafico de resultado, se nao rodar a celula de baixo, é so mudar o caminho pro correto, mas 99% de chance de ir direto. Se nada funcionar, so entra a pasta usando a mao e procura um arquivo chamado confusion matrix, results e val_batch0_pred."
      ],
      "metadata": {
        "id": "t5WaQ4YwExfG"
      }
    },
    {
      "cell_type": "markdown",
      "source": [
        "Carrega os resultados de diferentes fases do treinamento, como a matriz de confusão e as imagens de predição, para ver como o modelo está se saindo na tarefa de detecção."
      ],
      "metadata": {
        "id": "pNYWquISiYhu"
      }
    },
    {
      "cell_type": "code",
      "execution_count": null,
      "metadata": {
        "id": "1MScstfHhArr"
      },
      "outputs": [],
      "source": [
        "!ls {HOME}/runs/detect/train/"
      ]
    },
    {
      "cell_type": "code",
      "execution_count": null,
      "metadata": {
        "id": "_J35i8Ofhjxa"
      },
      "outputs": [],
      "source": [
        "%cd {HOME}\n",
        "Image(filename=f'{HOME}/runs/detect/train2/confusion_matrix.png', width=600)"
      ]
    },
    {
      "cell_type": "code",
      "execution_count": null,
      "metadata": {
        "id": "A-urTWUkhRmn"
      },
      "outputs": [],
      "source": [
        "%cd {HOME}\n",
        "Image(filename=f'{HOME}/runs/detect/train2/results.png', width=600)"
      ]
    },
    {
      "cell_type": "code",
      "execution_count": null,
      "metadata": {
        "id": "HI4nADCCj3F5"
      },
      "outputs": [],
      "source": [
        "%cd {HOME}\n",
        "Image(filename=f'{HOME}/runs/detect/train2/val_batch0_pred.jpg', width=600)"
      ]
    },
    {
      "cell_type": "markdown",
      "source": [
        "Depois de validar o treinamento, usa o melhor modelo treinado ``best.pt`` para fazer previsões em um conjunto de imagens de teste."
      ],
      "metadata": {
        "id": "xRVZVhj9iaad"
      }
    },
    {
      "cell_type": "code",
      "execution_count": null,
      "metadata": {
        "id": "YpyuwrNlXc1P"
      },
      "outputs": [],
      "source": [
        "%cd {HOME}\n",
        "\n",
        "!yolo task=detect mode=val model={HOME}/runs/detect/train2/weights/best.pt data={dataset.location}/data.yaml"
      ]
    },
    {
      "cell_type": "code",
      "execution_count": null,
      "metadata": {
        "id": "Wjc1ctZykYuf"
      },
      "outputs": [],
      "source": [
        "%cd {HOME}\n",
        "!yolo task=detect mode=predict model={HOME}/runs/detect/train2/weights/best.pt conf=0.65 source={dataset.location}/test/images save=True"
      ]
    },
    {
      "cell_type": "code",
      "execution_count": null,
      "metadata": {
        "id": "jbVjEtPAkz3j"
      },
      "outputs": [],
      "source": [
        "import glob\n",
        "from IPython.display import Image, display\n",
        "\n",
        "# Define o caminho base onde as pastas estão localizadas\n",
        "base_path = '/content/runs/detect/'\n",
        "\n",
        "\n",
        "# Lista todos os diretórios que começam com 'predict' no caminho base\n",
        "subfolders = [os.path.join(base_path, d) for d in os.listdir(base_path)\n",
        "              if os.path.isdir(os.path.join(base_path, d)) and d.startswith('predict')]\n",
        "\n",
        "# Encontra a pasta mais recente baseada na hora de modificação\n",
        "latest_folder = max(subfolders, key=os.path.getmtime)\n",
        "\n",
        "# Pega todos os caminhos de imagem dentro da pasta mais recente com a extensão .jpg, pegando as 3 primeiras imagens\n",
        "image_paths = glob.glob(f'{latest_folder}/*.jpg')[:3]\n",
        "\n",
        "# Para cada caminho de imagem encontrado, exibe a imagem na tela\n",
        "for image_path in image_paths:\n",
        "    display(Image(filename=image_path, width=600))\n",
        "    print(\"\\n\") # Pula uma linha entre as imagens para organização"
      ]
    },
    {
      "cell_type": "markdown",
      "source": [
        "#Valeu\n",
        "### agora baixa o ``best.pt`` pois sera utilizado posteriormente\n"
      ],
      "metadata": {
        "id": "Sa5yIZ39EN0f"
      }
    }
  ],
  "metadata": {
    "accelerator": "GPU",
    "colab": {
      "provenance": [],
      "gpuType": "T4",
      "include_colab_link": true
    },
    "kernelspec": {
      "display_name": "Python 3",
      "name": "python3"
    },
    "language_info": {
      "codemirror_mode": {
        "name": "ipython",
        "version": 3
      },
      "file_extension": ".py",
      "mimetype": "text/x-python",
      "name": "python",
      "nbconvert_exporter": "python",
      "pygments_lexer": "ipython3",
      "version": "3.9.6"
    }
  },
  "nbformat": 4,
  "nbformat_minor": 0
}